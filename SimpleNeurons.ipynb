{
  "nbformat": 4,
  "nbformat_minor": 0,
  "metadata": {
    "colab": {
      "provenance": []
    },
    "kernelspec": {
      "name": "python3",
      "display_name": "Python 3"
    },
    "language_info": {
      "name": "python"
    }
  },
  "cells": [
    {
      "cell_type": "markdown",
      "source": [
        "# Простой нейрон\n",
        "Есть нейрон, который использует сигмоиду: f(x) = 1 / (1 + e^(-x))\n",
        "\n",
        "вес 1 -> w0\n",
        "\n",
        "вес 2 -> w1\n",
        "\n",
        "отклонение -> b\n",
        "\n"
      ],
      "metadata": {
        "id": "h59L-D2sod2S"
      }
    },
    {
      "cell_type": "code",
      "source": [
        "import numpy as np\n",
        "\n",
        "def Sigmoid(x):\n",
        "  # Наша функция активации: f(x) = 1 / (1 + e^(-x))\n",
        "  return (1/(1 + np.exp(-x)))\n",
        "\n",
        "class Neuron:\n",
        "\n",
        "  def __init__(self, weights, bias):\n",
        "    self.weights = weights\n",
        "    self.bias = bias\n",
        "  \n",
        "  def forward(self, InputDataX):\n",
        "    # Умножаем входы на веса, прибавляем порог, затем используем функцию активации\n",
        "    result = np.dot(self.weights, InputDataX) + self.bias\n",
        "    return Sigmoid(result)\n",
        "\n",
        "if __name__ == \"__main__\":\n",
        "  \"\"\"\n",
        "  w0 -> 0; w1 -> 1; bias = 4\n",
        "  \"\"\"\n",
        "  weights = np.array([0, 1])\n",
        "  x = np.array([2, 3])\n",
        "  bias = 4\n",
        "  ObjectNeuron = Neuron(weights, bias)\n",
        "  \n",
        "  print(ObjectNeuron.forward(x))\n",
        "\n"
      ],
      "metadata": {
        "id": "VpDWXS3TogGm",
        "colab": {
          "base_uri": "https://localhost:8080/"
        },
        "outputId": "681b445e-73ef-4e58-806c-cb3731566607"
      },
      "execution_count": null,
      "outputs": [
        {
          "output_type": "stream",
          "name": "stdout",
          "text": [
            "0.9990889488055994\n"
          ]
        }
      ]
    },
    {
      "cell_type": "markdown",
      "source": [
        "# Напишем нейрон соответствующий операции НЕ\n",
        "\n",
        "используем пороговую функцию активации:\n",
        "\n",
        "0 if x <= 0\n",
        "\n",
        "1 if x > 1"
      ],
      "metadata": {
        "id": "9bVb3eVHugvd"
      }
    },
    {
      "cell_type": "code",
      "source": [
        "import numpy as np\n",
        "\n",
        "\n",
        "class Neuron:\n",
        "\n",
        "  def __init__(self, weight, bias):\n",
        "    self.weight = weight\n",
        "    self.bias = bias\n",
        "  \n",
        "  def forward(self, InputData):\n",
        "    if self.weight * InputData + self.bias > 0:\n",
        "      return 1.0\n",
        "    else:\n",
        "      return 0.0\n",
        "\n",
        "\n",
        "if __name__ == \"__main__\":\n",
        "  x0 = 0\n",
        "  x1 = 1\n",
        "  weight = -0.5\n",
        "  bias = 0.5\n",
        "  \n",
        "  ObjNeuron = Neuron(weight, bias)\n",
        "  print(ObjNeuron.forward(x0))\n",
        "  print(ObjNeuron.forward(x1))\n"
      ],
      "metadata": {
        "colab": {
          "base_uri": "https://localhost:8080/"
        },
        "id": "36EzWkwXvhr6",
        "outputId": "2da9c933-87d7-41a0-b831-c5a84faf2df2"
      },
      "execution_count": null,
      "outputs": [
        {
          "output_type": "stream",
          "name": "stdout",
          "text": [
            "1.0\n",
            "0.0\n"
          ]
        }
      ]
    },
    {
      "cell_type": "markdown",
      "source": [
        "# Напишем нейрон соответствующий операции И\n",
        "используем пороговую функцию активации:\n",
        "\n",
        "0 if x <= 0\n",
        "\n",
        "1 if x > 1"
      ],
      "metadata": {
        "id": "ulEF_sUd2Sqo"
      }
    },
    {
      "cell_type": "code",
      "source": [
        "import numpy as np\n",
        "\n",
        "def Activasion(res):\n",
        "  if res > 0:\n",
        "    return 1.0\n",
        "  else:\n",
        "    return 0.0\n",
        "\n",
        "class Neuron:\n",
        "\n",
        "    def __init__(self, weight, bias):\n",
        "        self.weight = weight\n",
        "        self.bias = bias\n",
        "\n",
        "    def forward(self, InputData):\n",
        "        tempres = np.dot(self.weight, InputData) + self.bias\n",
        "        return Activasion(tempres)\n",
        "\n",
        "\n",
        "\n",
        "\n",
        "if __name__ == \"__main__\":\n",
        "  x1 = np.array([0, 0])\n",
        "  x2 = np.array([0, 1])\n",
        "  x3 = np.array([1, 0])\n",
        "  x4 = np.array([1, 1])\n",
        "  weight = np.array([1.5, 1.5])\n",
        "  bias = -2\n",
        "\n",
        "  ObjNeuron = Neuron(weight, bias)\n",
        "\n",
        "  print(ObjNeuron.forward(x1))\n",
        "  print(ObjNeuron.forward(x2))\n",
        "  print(ObjNeuron.forward(x3))\n",
        "  print(ObjNeuron.forward(x4))\n"
      ],
      "metadata": {
        "colab": {
          "base_uri": "https://localhost:8080/"
        },
        "id": "MDftT3em1YkH",
        "outputId": "56c91327-de47-4492-8892-53a98dcf4c79"
      },
      "execution_count": null,
      "outputs": [
        {
          "output_type": "stream",
          "name": "stdout",
          "text": [
            "0.0\n",
            "0.0\n",
            "0.0\n",
            "1.0\n"
          ]
        }
      ]
    },
    {
      "cell_type": "markdown",
      "source": [
        "# Напишем нейрон соответствующий операции ИЛИ\n",
        "используем пороговую функцию активации:\n",
        "\n",
        "0 if x <= 0\n",
        "\n",
        "1 if x > 1"
      ],
      "metadata": {
        "id": "D07ymQK5dwXG"
      }
    },
    {
      "cell_type": "code",
      "source": [
        "import numpy as np\n",
        "\n",
        "def Activisation(Res):\n",
        "  if Res > 0:\n",
        "    return 1.0\n",
        "  else:\n",
        "    return 0.0\n",
        "\n",
        "class Neuron():\n",
        "  def __init__(self, weights, bias):\n",
        "    self.weights = weights\n",
        "    self.bias = bias\n",
        "  \n",
        "  def forward(self, InputData):\n",
        "    TempRes = np.dot(self.weights, InputData) + self.bias\n",
        "    return Activisation(TempRes)\n",
        "\n",
        "if __name__ == \"__main__\":\n",
        "  x1 = np.array([0, 0])\n",
        "  x2 = np.array([0, 1])\n",
        "  x3 = np.array([1, 0])\n",
        "  x4 = np.array([1, 1])\n",
        "  weights = np.array([3, 3])\n",
        "  bias = -2\n",
        "\n",
        "  NeuronObj = Neuron(weights, bias)\n",
        "  \n",
        "  print(NeuronObj.forward(x1))\n",
        "  print(NeuronObj.forward(x2))\n",
        "  print(NeuronObj.forward(x3))\n",
        "  print(NeuronObj.forward(x4))\n"
      ],
      "metadata": {
        "colab": {
          "base_uri": "https://localhost:8080/"
        },
        "id": "dUcWcS0ZdyrH",
        "outputId": "3756977a-dc02-4644-f5b4-5e359d239a88"
      },
      "execution_count": 2,
      "outputs": [
        {
          "output_type": "stream",
          "name": "stdout",
          "text": [
            "0.0\n",
            "1.0\n",
            "1.0\n",
            "1.0\n"
          ]
        }
      ]
    },
    {
      "cell_type": "markdown",
      "source": [
        "# Напишем нейрон соответствующий операции XOR\n",
        "используем пороговую функцию активации:\n",
        "\n",
        "0 if x <= 0\n",
        "\n",
        "1 if x > 1"
      ],
      "metadata": {
        "id": "DedT2lOMhq54"
      }
    },
    {
      "cell_type": "markdown",
      "source": [
        "#Нейронная сеть\n",
        "\n",
        " Нейронная сеть с:\n",
        "   \n",
        "  - 2 входами\n",
        "  - скрытым слоем с 2 нейронами (h1, h2)\n",
        "  - выходным слоем с 1 нейроном (o1)\n",
        "  \n",
        "Все нейроны имеют одинаковые веса и пороги:\n",
        "- w = [0, 1]\n",
        "- b = 0"
      ],
      "metadata": {
        "id": "mebJnliByesS"
      }
    },
    {
      "cell_type": "code",
      "source": [
        "import numpy as np\n",
        "\n",
        "def sigmoid(x):\n",
        "    # Наша функция активации: f(x) = 1 / (1 + e^(-x))\n",
        "    return 1 / (1 + np.exp(-x))\n",
        "\n",
        "class Neuron:\n",
        "    def __init__(self, weights, bias):\n",
        "        self.weights = weights\n",
        "        self.bias = bias\n",
        "\n",
        "    def feedforward(self, inputs):\n",
        "        # Умножаем входы на веса, прибавляем порог, затем используем функцию активации\n",
        "        total = np.dot(self.weights, inputs) + self.bias\n",
        "        return sigmoid(total)\n",
        "\n",
        "\n",
        "class OurNeuralNetwork:\n",
        "    '''\n",
        "    Нейронная сеть с:\n",
        "      - 2 входами\n",
        "      - скрытым слоем с 2 нейронами (h1, h2)\n",
        "      - выходным слоем с 1 нейроном (o1)\n",
        "    Все нейроны имеют одинаковые веса и пороги:\n",
        "      - w = [0, 1]\n",
        "      - b = 0\n",
        "    '''\n",
        "    def __init__(self):\n",
        "        weights = np.array([0, 1])\n",
        "        bias = 0\n",
        "\n",
        "        # Используем класс Neuron из предыдущего раздела\n",
        "        self.h1 = Neuron(weights, bias)\n",
        "        self.h2 = Neuron(weights, bias)\n",
        "        self.o1 = Neuron(weights, bias)\n",
        "\n",
        "    def feedforward(self, x):\n",
        "        out_h1 = self.h1.feedforward(x)\n",
        "        out_h2 = self.h2.feedforward(x)\n",
        "\n",
        "        # Входы для o1 - это выходы h1 и h2\n",
        "        out_o1 = self.o1.feedforward(np.array([out_h1, out_h2]))\n",
        "\n",
        "        return out_o1\n",
        "\n",
        "\n",
        "if __name__ == \"__main__\":\n",
        "  weights = np.array([0, 1]) # w1 = 0, w2 = 1\n",
        "  bias = 4                   # b = 4\n",
        "  n = Neuron(weights, bias)\n",
        "\n",
        "  XforNeuron = np.array([2, 3])       # x1 = 2, x2 = 3\n",
        "  print(n.feedforward(XforNeuron))    # 0.9990889488055994\n",
        "\n",
        "  network = OurNeuralNetwork()\n",
        "  XforNetwork = np.array([2, 3])\n",
        "  print(network.feedforward(XforNetwork)) # 0.7216325609518421\n"
      ],
      "metadata": {
        "colab": {
          "base_uri": "https://localhost:8080/"
        },
        "id": "G9l5iaGRyfH-",
        "outputId": "cc4c21ae-f98b-4fdd-f5c8-5caff580494e"
      },
      "execution_count": 6,
      "outputs": [
        {
          "output_type": "stream",
          "name": "stdout",
          "text": [
            "0.9990889488055994\n",
            "0.7216325609518421\n"
          ]
        }
      ]
    },
    {
      "cell_type": "code",
      "source": [],
      "metadata": {
        "id": "fVRipx8Tzf3k"
      },
      "execution_count": null,
      "outputs": []
    }
  ]
}